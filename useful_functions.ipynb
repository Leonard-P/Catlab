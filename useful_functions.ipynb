{
  "nbformat": 4,
  "nbformat_minor": 0,
  "metadata": {
    "colab": {
      "name": "useful_functions.ipynb",
      "provenance": [],
      "collapsed_sections": []
    },
    "kernelspec": {
      "name": "python3",
      "display_name": "Python 3"
    },
    "accelerator": "GPU"
  },
  "cells": [
    {
      "cell_type": "markdown",
      "metadata": {},
      "source": [
      "{{ badge }}"
      ]
    },
    {
      "cell_type": "code",
      "metadata": {
        "id": "tiHLxjtpmu-x",
        "cellView": "both"
      },
      "source": [
        "#!pip install q tensorflow==2.1\n",
        "#!pip install q keras==2.3.1\n",
        "!pip install -U efficientnet"
      ],
      "execution_count": null,
      "outputs": []
    },
    {
      "cell_type": "code",
      "metadata": {
        "id": "Jk2kv62yndk8"
      },
      "source": [
        "import efficientnet.keras\n",
        "from keras.models import load_model\n",
        "from skimage.io import imread\n",
        "from PIL import Image\n",
        "from efficientnet.keras import center_crop_and_resize, preprocess_input\n",
        "import numpy as np\n",
        "from scipy.spatial.distance import euclidean\n",
        "\n",
        "import os\n",
        "from tqdm.notebook import tqdm\n",
        "\n",
        "import requests"
      ],
      "execution_count": null,
      "outputs": []
    },
    {
      "cell_type": "code",
      "metadata": {
        "id": "ZpUJ1tsgjyXk",
        "outputId": "71f5017d-d7dd-49a3-85be-ea43d4222052",
        "colab": {
          "base_uri": "https://localhost:8080/",
          "height": 34
        }
      },
      "source": [
        "# Download model\n",
        "r = requests.get('https://raw.github.com/Leonard-P/Catlab/blob/main/model.h5')\n",
        "open('model.h5', 'wb').write(r.content)"
      ],
      "execution_count": null,
      "outputs": [
        {
          "output_type": "execute_result",
          "data": {
            "text/plain": [
              "137783"
            ]
          },
          "metadata": {
            "tags": []
          },
          "execution_count": 20
        }
      ]
    },
    {
      "cell_type": "code",
      "metadata": {
        "id": "cTwkv8D4p_T-"
      },
      "source": [
        "# Load Siamese Network\n",
        "model = load_model('model.h5', compile=False)\n",
        "# Get the base model to calculate feature vectors of single images\n",
        "base_model = model.layers[2]"
      ],
      "execution_count": null,
      "outputs": []
    },
    {
      "cell_type": "code",
      "metadata": {
        "id": "rDmUkSekvkXK"
      },
      "source": [
        "def load_and_preprocess_image(path):\n",
        "    '''loads an image and preprocesses it.\n",
        "    path: path leading to the image file.\n",
        "    returns: numpy array with preprocessed image'''\n",
        "\n",
        "    img = imread(path)\n",
        "    img = center_crop_and_resize(img, image_size=256)\n",
        "    return preprocess_input(img)"
      ],
      "execution_count": null,
      "outputs": []
    },
    {
      "cell_type": "code",
      "metadata": {
        "id": "0dfeUVWktvMe"
      },
      "source": [
        "def predict_vector_distance(img1, img2):\n",
        "    '''predicts the euclidian vector distance between two cat images.\n",
        "    img1: preprocessed image with cat 1\n",
        "    img2: preprocessed image with cat 2\n",
        "    returns: floating point value of euclidian distance'''\n",
        "    \n",
        "    img1 = np.expand_dims(img1, 0)\n",
        "    img2 = np.expand_dims(img2, 0)\n",
        "    return model.predict([img1, img2]).item()"
      ],
      "execution_count": null,
      "outputs": []
    },
    {
      "cell_type": "code",
      "metadata": {
        "id": "hCm_ganGxm6R"
      },
      "source": [
        "def predict_vector_of_single_image(img):\n",
        "    '''predicts a feature vector of a single image\n",
        "    img: preprocessed image to calculate the vector from.\n",
        "    returns: 128-dimensional vector'''\n",
        "\n",
        "    img = np.expand_dims(img, 0)\n",
        "    return base_model.predict(img)[0]"
      ],
      "execution_count": null,
      "outputs": []
    },
    {
      "cell_type": "code",
      "metadata": {
        "id": "H5VLnuXX1ahz"
      },
      "source": [
        "def predict_vector_distances_of_batch_of_image_pairs(img_pairs):\n",
        "    '''predicts the euclidian vector distance between mulltiple image pairs of cats.\n",
        "    img_pairs: list of two arrays with one image of a pair in each\n",
        "    returns: array with floating point values of the euclidean distances'''\n",
        "\n",
        "    return model.predict(img_pairs)"
      ],
      "execution_count": null,
      "outputs": []
    },
    {
      "cell_type": "code",
      "metadata": {
        "id": "nXLnqrpq0VGg"
      },
      "source": [
        "def predict_vectors_of_batch_of_images(imgs):\n",
        "    '''predicts feature vectors of a batch of images.\n",
        "    imgs: array with preprocessed images to calculate the vectors from\n",
        "    returns: array of 128-dimensional vectors'''\n",
        "\n",
        "    return base_model.predict(imgs)"
      ],
      "execution_count": null,
      "outputs": []
    },
    {
      "cell_type": "code",
      "metadata": {
        "id": "8rqGP6DMs6c5"
      },
      "source": [
        "def sort_cats_by_similarity_to(reference, imgs):\n",
        "    '''Sorts a list of cats by similarity. This can be used e.g. to sort lost\n",
        "    reports on websites (or in apps) like www.tasso.net\n",
        "    reference: list with one or more (preprocessed) images of the cat the other images should be compared with\n",
        "    imgs: list of cats whereas each cat is a list of one or more images.\n",
        "    returns: list of sorted cats'''\n",
        "\n",
        "    # calculate feature vectors for each cat\n",
        "    vects = [predict_vectors_of_batch_of_images(np.array(cat)) for cat in imgs]\n",
        "\n",
        "    # calculate feauture vectors for the reference images\n",
        "    ref_vects = predict_vectors_of_batch_of_images(np.array(reference))\n",
        "\n",
        "    # calculate the vector distances between each cat images and the reference images\n",
        "    distances = []\n",
        "    for cat_vects in vects:\n",
        "        cat_dists = [np.mean(euclidean(cat_vect, ref_vect)) for cat_vect in cat_vects for ref_vect in ref_vects]\n",
        "        distances.append(np.mean(cat_dists))\n",
        "\n",
        "    # sort the cat images by their vector distances  \n",
        "    indices = np.argsort(distances)\n",
        "    return np.take_along_axis(np.array(imgs), indices, axis=0)"
      ],
      "execution_count": null,
      "outputs": []
    },
    {
      "cell_type": "code",
      "metadata": {
        "id": "isr1OfndZyBQ"
      },
      "source": [
        "def sort_cats_by_similarity_with_vectors(reference, imgs, vects):\n",
        "    '''Sorts a list of cats by similarity using already calculated feauture vectors.\n",
        "    This can be used e.g. to sort lost reports on websites or in apps like www.tasso.net efficiently.\n",
        "    reference: List with one or more images of the cat the other images should be compared with\n",
        "    imgs: list of cats; each cat is a list of one or more images.\n",
        "    vects: list of cats; each cat is a list of one or more vectors of the images in imgs.\n",
        "    returns: list of sorted cats.'''\n",
        "\n",
        "    # calculate feauture vectors for the reference cat\n",
        "    ref_vects = predict_vectors_of_batch_of_images(np.array(reference))\n",
        "\n",
        "    # calculate the vector distances between each cat images and the reference images\n",
        "    distances = []\n",
        "    for cat_vects in vects:\n",
        "        cat_dists = [np.mean(euclidean(vect, ref_vect)) for vect in cat_vects for ref_vect in ref_vects]\n",
        "        distances.append(np.mean(cat_dists))\n",
        "\n",
        "    # sort the cat images by their vector distances  \n",
        "    indices = np.argsort(distances)\n",
        "    return np.take_along_axis(np.array(imgs), indices, axis=0)"
      ],
      "execution_count": null,
      "outputs": []
    }
  ]
}
